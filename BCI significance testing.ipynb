{
 "cells": [
  {
   "cell_type": "code",
   "execution_count": 17,
   "metadata": {},
   "outputs": [],
   "source": [
    "lstm_original = [0.99581, 0.99869, 0.99596, 0.99020, 0.99455, 0.99760, 0.99699,\n",
    "0.99296, 0.99018, 0.99633, 0.99169, 0.98946]\n",
    "transformer_original = [0.99820, 0.99217, 0.99786, 0.99755, 0.99204, 0.99900,\n",
    "0.99962, 0.99236, 0.99529, 0.99363, 0.98223, 0.99581]\n",
    "lstm_surrogate = [0.99356, 0.99608, 0.99691, 0.99532, 0.99664, 0.99520,\n",
    "0.99831, 0.98733, 0.99672, 0.99247, 0.98936, 0.99740]\n",
    "transformer_surrogate = [0.99775, 0.99087, 0.99643, 0.99732, 0.99413, 0.99880,\n",
    "0.99718, 0.99296, 0.98998, 0.99112, 0.98558, 0.99436]"
   ]
  },
  {
   "cell_type": "code",
   "execution_count": 18,
   "metadata": {},
   "outputs": [
    {
     "name": "stdout",
     "output_type": "stream",
     "text": [
      "RQ\n",
      "t-statistic: -0.26852364165071024\n",
      "p-value: 0.7907982117624044\n"
     ]
    }
   ],
   "source": [
    "from scipy.stats import ttest_ind\n",
    "\n",
    "t_statistic, p_value = ttest_ind(lstm_original, transformer_original)\n",
    "\n",
    "print('RQ')\n",
    "print(\"t-statistic:\", t_statistic)\n",
    "print(\"p-value:\", p_value)"
   ]
  },
  {
   "cell_type": "code",
   "execution_count": 19,
   "metadata": {},
   "outputs": [
    {
     "name": "stdout",
     "output_type": "stream",
     "text": [
      "LSTM\n",
      "t-statistic: -0.30355115509939373\n",
      "p-value: 0.7643220281105908\n"
     ]
    }
   ],
   "source": [
    "t_statistic, p_value = ttest_ind(lstm_original, lstm_surrogate)\n",
    "\n",
    "print('LSTM')\n",
    "print(\"t-statistic:\", t_statistic)\n",
    "print(\"p-value:\", p_value)"
   ]
  },
  {
   "cell_type": "code",
   "execution_count": 20,
   "metadata": {},
   "outputs": [
    {
     "name": "stdout",
     "output_type": "stream",
     "text": [
      "Transformer\n",
      "t-statistic: 0.4332695122913497\n",
      "p-value: 0.6690374423953359\n"
     ]
    }
   ],
   "source": [
    "t_statistic, p_value = ttest_ind(transformer_original, transformer_surrogate)\n",
    "\n",
    "print('Transformer')\n",
    "print(\"t-statistic:\", t_statistic)\n",
    "print(\"p-value:\", p_value)"
   ]
  }
 ],
 "metadata": {
  "kernelspec": {
   "display_name": "Python 3",
   "language": "python",
   "name": "python3"
  },
  "language_info": {
   "codemirror_mode": {
    "name": "ipython",
    "version": 3
   },
   "file_extension": ".py",
   "mimetype": "text/x-python",
   "name": "python",
   "nbconvert_exporter": "python",
   "pygments_lexer": "ipython3",
   "version": "3.8.3"
  }
 },
 "nbformat": 4,
 "nbformat_minor": 4
}
